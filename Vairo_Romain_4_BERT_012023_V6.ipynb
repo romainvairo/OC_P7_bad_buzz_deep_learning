{
 "cells": [
  {
   "cell_type": "code",
   "execution_count": 1,
   "metadata": {},
   "outputs": [
    {
     "name": "stderr",
     "output_type": "stream",
     "text": [
      "c:\\Users\\romai\\anaconda3\\envs\\P07\\lib\\site-packages\\tqdm\\auto.py:22: TqdmWarning:\n",
      "\n",
      "IProgress not found. Please update jupyter and ipywidgets. See https://ipywidgets.readthedocs.io/en/stable/user_install.html\n",
      "\n",
      "c:\\Users\\romai\\Desktop\\OC_Romain_Vairo\\P7_VAIRO_ROMAIN\\functions\\functions.py:144: DeprecationWarning:\n",
      "\n",
      "invalid escape sequence \\S\n",
      "\n"
     ]
    }
   ],
   "source": [
    "# Numpy\n",
    "import numpy as np\n",
    "\n",
    "# Matplotlib\n",
    "import matplotlib.pyplot as plt\n",
    "from matplotlib import style\n",
    "\n",
    "# Pandas\n",
    "import pandas as pd\n",
    "\n",
    "# Seaborn\n",
    "import seaborn as sns\n",
    "\n",
    "# Plotly\n",
    "import plotly.express as px\n",
    "import plotly.graph_objects as go\n",
    "from plotly.offline import init_notebook_mode\n",
    "\n",
    "# Wordcloud\n",
    "from wordcloud import WordCloud\n",
    "\n",
    "# # Pil\n",
    "# from PIL import Image\n",
    "\n",
    "# Json\n",
    "import json\n",
    "\n",
    "\n",
    "import mlflow\n",
    "\n",
    "# # Emoji\n",
    "# import emoji\n",
    "\n",
    "# import re\n",
    "\n",
    "# import string\n",
    "\n",
    "# Sklearn\n",
    "from sklearn import metrics\n",
    "from sklearn.metrics import accuracy_score, precision_score, recall_score, f1_score, roc_auc_score, fbeta_score, confusion_matrix, classification_report\n",
    "from sklearn.model_selection import train_test_split\n",
    "\n",
    "import tensorflow as tf\n",
    "from tensorflow.keras.layers import Dense, Input\n",
    "from tensorflow.keras.optimizers import Adam\n",
    "from tensorflow.keras.models import Model\n",
    "# from tensorflow.keras.callbacks import ModelCheckpoint\n",
    "import transformers\n",
    "\n",
    "# # NLTK\n",
    "# import nltk\n",
    "# from nltk import ngrams\n",
    "# from nltk.util import trigrams\n",
    "# from nltk.util import bigrams\n",
    "# from nltk.stem import WordNetLemmatizer, PorterStemmer\n",
    "# from nltk.tokenize import word_tokenize, wordpunct_tokenize\n",
    "# from nltk.corpus import words\n",
    "# from nltk.corpus import stopwords\n",
    "# from nltk.tokenize import RegexpTokenizer\n",
    "# from nltk.tokenize.treebank import TreebankWordDetokenizer\n",
    "# import nlp\n",
    "\n",
    "# Keras\n",
    "# from keras_preprocessing.sequence import pad_sequences\n",
    "\n",
    "\n",
    "# Pyldavis\n",
    "import pyLDAvis\n",
    "import pyLDAvis.gensim_models\n",
    "\n",
    "# Collections\n",
    "import collections\n",
    "\n",
    "# Itertools\n",
    "import itertools\n",
    "\n",
    "# Gensim\n",
    "# import gensim\n",
    "# from gensim import corpora, models, similarities\n",
    "# from gensim.models.coherencemodel import CoherenceModel\n",
    "\n",
    "# Transformers\n",
    "from transformers import pipeline\n",
    "from transformers import DistilBertTokenizerFast\n",
    "from transformers import TFDistilBertModel, DistilBertConfig\n",
    "\n",
    "# Torch\n",
    "# import torch\n",
    "# import torch.nn.functional as F\n",
    "\n",
    "# # Image\n",
    "# from IPython.display import Image\n",
    "\n",
    "# # Punctuation\n",
    "# from string import punctuation\n",
    "\n",
    "# # time\n",
    "# import time\n",
    "\n",
    "# Gc\n",
    "import gc\n",
    "\n",
    "# Functions notebook\n",
    "from functions.functions import *"
   ]
  },
  {
   "attachments": {},
   "cell_type": "markdown",
   "metadata": {},
   "source": [
    "# <center><a id='loading'>Chargement du dataframe</a></center>"
   ]
  },
  {
   "cell_type": "code",
   "execution_count": 2,
   "metadata": {},
   "outputs": [],
   "source": [
    "data = pd.read_csv(\"csv/data_40000.csv\")"
   ]
  },
  {
   "cell_type": "markdown",
   "metadata": {},
   "source": [
    "<div style=\"background-color : lightgreen; color: black; padding : 5px; border-radius: 5px\">\n",
    "</div>"
   ]
  },
  {
   "cell_type": "markdown",
   "metadata": {},
   "source": [
    "# DistilBERT"
   ]
  },
  {
   "cell_type": "code",
   "execution_count": 3,
   "metadata": {},
   "outputs": [],
   "source": [
    "X = data[\"tweet\"].loc[pd.isna(data[\"target\"])==False]\n",
    "Y = data[\"target\"].loc[pd.isna(data[\"target\"])==False]"
   ]
  },
  {
   "cell_type": "code",
   "execution_count": 4,
   "metadata": {},
   "outputs": [],
   "source": [
    "X_train_base, X_test, y_train_base, y_test = train_test_split(X, Y, test_size=0.3, random_state=20)"
   ]
  },
  {
   "cell_type": "markdown",
   "metadata": {},
   "source": [
    "<div style=\"background-color : lightgreen; color: black; padding : 5px; border-radius: 5px\">\n",
    "</div>"
   ]
  },
  {
   "cell_type": "code",
   "execution_count": 5,
   "metadata": {},
   "outputs": [],
   "source": [
    "tokenizer = DistilBertTokenizerFast.from_pretrained('distilbert-base-uncased')"
   ]
  },
  {
   "cell_type": "code",
   "execution_count": 6,
   "metadata": {},
   "outputs": [],
   "source": [
    "train_encodings = tokenizer(X_train_base.to_list(), truncation=True, padding=True, return_tensors='np').data"
   ]
  },
  {
   "cell_type": "code",
   "execution_count": 7,
   "metadata": {},
   "outputs": [],
   "source": [
    "test_encodings = tokenizer(X_test.to_list(), truncation=True, padding=True, return_tensors='np').data"
   ]
  },
  {
   "cell_type": "code",
   "execution_count": 8,
   "metadata": {},
   "outputs": [],
   "source": [
    "X_train_ids, X_val_ids, X_train_att, X_val_att, y_train, y_val = train_test_split(train_encodings[\"input_ids\"],train_encodings[\"attention_mask\"], y_train_base, test_size=0.3, random_state=20)"
   ]
  },
  {
   "cell_type": "code",
   "execution_count": 9,
   "metadata": {},
   "outputs": [],
   "source": [
    "X_train_ids, X_test_ids, X_train_att, X_test_att, y_train, y_test = train_test_split(train_encodings[\"input_ids\"],train_encodings[\"attention_mask\"], y_train_base, test_size=0.3, random_state=20)"
   ]
  },
  {
   "cell_type": "markdown",
   "metadata": {},
   "source": [
    "<div style=\"background-color : lightgreen; color: black; padding : 5px; border-radius: 5px\">\n",
    "</div>"
   ]
  },
  {
   "cell_type": "code",
   "execution_count": 10,
   "metadata": {},
   "outputs": [
    {
     "name": "stderr",
     "output_type": "stream",
     "text": [
      "Some layers from the model checkpoint at distilbert-base-uncased were not used when initializing TFDistilBertModel: ['activation_13', 'vocab_projector', 'vocab_layer_norm', 'vocab_transform']\n",
      "- This IS expected if you are initializing TFDistilBertModel from the checkpoint of a model trained on another task or with another architecture (e.g. initializing a BertForSequenceClassification model from a BertForPreTraining model).\n",
      "- This IS NOT expected if you are initializing TFDistilBertModel from the checkpoint of a model that you expect to be exactly identical (initializing a BertForSequenceClassification model from a BertForSequenceClassification model).\n",
      "All the layers of TFDistilBertModel were initialized from the model checkpoint at distilbert-base-uncased.\n",
      "If your task is similar to the task the model of the checkpoint was trained on, you can already use TFDistilBertModel for predictions without further training.\n"
     ]
    }
   ],
   "source": [
    "dropout_distillbert = 0.2 # 0.2\n",
    "attention_distillbert_dropout = 0.2 # 0.2\n",
    " \n",
    "# Configuration et initialisation du DistilBERT\n",
    "config = DistilBertConfig(dropout=dropout_distillbert, \n",
    "                          attention_dropout=attention_distillbert_dropout, \n",
    "                          output_hidden_states=True)\n",
    "                          \n",
    "# Modèle DistillBERT pré-entraîné\n",
    "distilbert = TFDistilBertModel.from_pretrained('distilbert-base-uncased', config=config)\n",
    "\n",
    "# Fait en sorte que les couches de DistillBERT ne soit pas entraînable\n",
    "for layer in distilbert.layers:\n",
    "    layer.trainable = False"
   ]
  },
  {
   "cell_type": "code",
   "execution_count": 11,
   "metadata": {},
   "outputs": [],
   "source": [
    "max_length = 84 # 50\n",
    "# learning_rate = 5e-3 # 0.000003 3e-5 # 0.008\n",
    "random_state = 42\n",
    "\n",
    "def model_builder(transformer, max_length=max_length):\n",
    "    \"\"\"\n",
    "    Construction du modèle BERT pour pouvoir ensuite entraîner les données\n",
    "    \"\"\"\n",
    "    \n",
    "    # Définition de l'initialisateur de poids avec le random seed pour pouvoir reproduire le model\n",
    "    initialization_weight = tf.keras.initializers.GlorotNormal(seed=random_state) \n",
    "    \n",
    "    # Définition des couches inputs et attention mask\n",
    "    input_ids_layer = tf.keras.layers.Input(shape=(max_length,), \n",
    "                                            name='input_ids', \n",
    "                                            dtype='int32')\n",
    "    input_attention_layer = tf.keras.layers.Input(shape=(max_length,), \n",
    "                                                  name='input_attention', \n",
    "                                                  dtype='int32')\n",
    "    \n",
    "    \n",
    "    # Génération d'un tuple ou le premier élément est à l'index 0\n",
    "    # représente le hidden-state à la sortie de la couche final du modèle\n",
    "    last_hid_state = transformer([input_ids_layer, input_attention_layer])[0]\n",
    "    \n",
    "    # Le jeton CLS se trouve à l'index 0 de chacune des séquences encodée, le découpage du jeton CLS, donne des données en 2 dimensions\n",
    "    token_cls = last_hid_state[:, 0, :]\n",
    "    \n",
    "    ## Définitions des couches \n",
    "    output_layer = tf.keras.layers.Dense(1, # 2\n",
    "                                   activation='sigmoid', # softmax\n",
    "                                   kernel_initializer=initialization_weight,  \n",
    "                                   kernel_constraint=None,\n",
    "                                   bias_initializer='zeros'\n",
    "                                   )(token_cls)\n",
    "    \n",
    "    # Définition du modèle\n",
    "    model = tf.keras.Model([input_ids_layer, input_attention_layer], output_layer)\n",
    "    \n",
    "    # Compilation du modèle\n",
    "    model.compile(tf.keras.optimizers.Adam(), # lr=learning_rate  learning_rate=learning_rate\n",
    "                  loss=tf.keras.losses.BinaryFocalCrossentropy(),  # from_logits=True\n",
    "                  metrics=['accuracy','AUC']) \n",
    "    \n",
    "    return model"
   ]
  },
  {
   "cell_type": "code",
   "execution_count": 12,
   "metadata": {},
   "outputs": [],
   "source": [
    "model = model_builder(distilbert)"
   ]
  },
  {
   "cell_type": "code",
   "execution_count": 13,
   "metadata": {},
   "outputs": [
    {
     "name": "stdout",
     "output_type": "stream",
     "text": [
      "Model: \"model\"\n",
      "__________________________________________________________________________________________________\n",
      " Layer (type)                   Output Shape         Param #     Connected to                     \n",
      "==================================================================================================\n",
      " input_ids (InputLayer)         [(None, 84)]         0           []                               \n",
      "                                                                                                  \n",
      " input_attention (InputLayer)   [(None, 84)]         0           []                               \n",
      "                                                                                                  \n",
      " tf_distil_bert_model (TFDistil  TFBaseModelOutput(l  66362880   ['input_ids[0][0]',              \n",
      " BertModel)                     ast_hidden_state=(N               'input_attention[0][0]']        \n",
      "                                one, 84, 768),                                                    \n",
      "                                 hidden_states=((No                                               \n",
      "                                ne, 84, 768),                                                     \n",
      "                                 (None, 84, 768),                                                 \n",
      "                                 (None, 84, 768),                                                 \n",
      "                                 (None, 84, 768),                                                 \n",
      "                                 (None, 84, 768),                                                 \n",
      "                                 (None, 84, 768),                                                 \n",
      "                                 (None, 84, 768)),                                                \n",
      "                                 attentions=None)                                                 \n",
      "                                                                                                  \n",
      " tf.__operators__.getitem (Slic  (None, 768)         0           ['tf_distil_bert_model[0][7]']   \n",
      " ingOpLambda)                                                                                     \n",
      "                                                                                                  \n",
      " dense (Dense)                  (None, 1)            769         ['tf.__operators__.getitem[0][0]'\n",
      "                                                                 ]                                \n",
      "                                                                                                  \n",
      "==================================================================================================\n",
      "Total params: 66,363,649\n",
      "Trainable params: 769\n",
      "Non-trainable params: 66,362,880\n",
      "__________________________________________________________________________________________________\n"
     ]
    }
   ],
   "source": [
    "model.summary()"
   ]
  },
  {
   "cell_type": "code",
   "execution_count": 14,
   "metadata": {},
   "outputs": [
    {
     "name": "stdout",
     "output_type": "stream",
     "text": [
      "Epoch 1/2\n",
      "2450/2450 [==============================] - 1283s 522ms/step - loss: 0.1436 - accuracy: 0.7068 - auc: 0.7805 - val_loss: 0.1232 - val_accuracy: 0.7714 - val_auc: 0.8540\n",
      "Epoch 2/2\n",
      "2450/2450 [==============================] - 1282s 523ms/step - loss: 0.1357 - accuracy: 0.7381 - auc: 0.8133 - val_loss: 0.1223 - val_accuracy: 0.7698 - val_auc: 0.8559\n"
     ]
    }
   ],
   "source": [
    "epochs = 2      # 10\n",
    "batch_size = 8 # 16\n",
    "\n",
    "start = time.time()\n",
    "history = model.fit(\n",
    "    x = [X_train_ids, X_train_att],\n",
    "    y = y_train.to_numpy(),\n",
    "    epochs = epochs,\n",
    "    batch_size = batch_size,\n",
    "    validation_data = ([X_val_ids, X_val_att], y_val.to_numpy()),\n",
    ")\n",
    "stop = time.time()"
   ]
  },
  {
   "cell_type": "markdown",
   "metadata": {},
   "source": [
    "<div style=\"background-color : lightgreen; color: black; padding : 5px; border-radius: 5px\">\n",
    "</div>"
   ]
  },
  {
   "cell_type": "code",
   "execution_count": 15,
   "metadata": {},
   "outputs": [],
   "source": [
    "tableau_score = pd.read_csv(\"csv/tableau_score.csv\")"
   ]
  },
  {
   "cell_type": "markdown",
   "metadata": {},
   "source": [
    "<div style=\"background-color : lightgreen; color: black; padding : 5px; border-radius: 5px\">\n",
    "</div>"
   ]
  },
  {
   "cell_type": "code",
   "execution_count": 16,
   "metadata": {},
   "outputs": [
    {
     "name": "stdout",
     "output_type": "stream",
     "text": [
      "263/263 [==============================] - 301s 1s/step\n",
      "263/263 [==============================] - 298s 1s/step\n"
     ]
    },
    {
     "data": {
      "image/png": "[encoded data removed]",
      "text/plain": [
       "<Figure size 640x480 with 1 Axes>"
      ]
     },
     "metadata": {},
     "output_type": "display_data"
    },
    {
     "name": "stderr",
     "output_type": "stream",
     "text": [
      "C:\\Users\\romai\\AppData\\Local\\Temp\\ipykernel_14188\\3359610714.py:63: FutureWarning:\n",
      "\n",
      "The frame.append method is deprecated and will be removed from pandas in a future version. Use pandas.concat instead.\n",
      "\n"
     ]
    }
   ],
   "source": [
    "pred_test = model.predict([X_test_ids, X_test_att]).round()\n",
    "pred_val = model.predict([X_val_ids, X_val_att]).round()\n",
    "\n",
    "pred_test = np.asarray(pred_test).astype('int64').reshape((-1,1))\n",
    "pred_val = np.asarray(pred_val).astype('int64').reshape((-1,1))\n",
    "\n",
    "plt.plot(history.history['loss'])\n",
    "plt.plot(history.history['val_loss'])\n",
    "plt.plot(history.history['accuracy'])\n",
    "plt.plot(history.history['val_accuracy'])\n",
    "plt.title('model loss and accuracy')\n",
    "plt.ylabel('loss')\n",
    "plt.xlabel('epoch')\n",
    "plt.legend(['loss', 'val_loss', 'accuracy', 'val_accuracy'], loc='upper left')\n",
    "plt.show()\n",
    "\n",
    "mlflow.log_metric(\"auc_score_test\", roc_auc_score(y_test, pred_test))\n",
    "mlflow.log_metric(\"auc_score_val\", roc_auc_score(y_val, pred_val))\n",
    "\n",
    "mlflow.log_metric(\"f1_score_test\", f1_score(y_test, pred_test))\n",
    "mlflow.log_metric(\"f1_score_val\", f1_score(y_val, pred_val))\n",
    "\n",
    "mlflow.log_metric(\"precision_score_test\", precision_score(y_test, pred_test))\n",
    "mlflow.log_metric(\"precision_score_val\", precision_score(y_val, pred_val))\n",
    "\n",
    "mlflow.log_metric(\"recall_score_test\", recall_score(y_test, pred_test))\n",
    "mlflow.log_metric(\"recall_score_val\", recall_score(y_val, pred_val))\n",
    "\n",
    "mlflow.log_metric(\"fbeta_score_test\", fbeta_score(y_test, pred_test, beta=0.5))\n",
    "mlflow.log_metric(\"fbeta_score_val\", fbeta_score(y_val, pred_val, beta=0.5))\n",
    "\n",
    "mlflow.log_metric(\"accuracy_score_test\", accuracy_score(y_test, pred_test))\n",
    "mlflow.log_metric(\"accuracy_score_val\", accuracy_score(y_val, pred_val))\n",
    "\n",
    "pickle.dump('BERT', open('BERT.pkl', 'wb'))\n",
    "time_training = stop - start\n",
    "\n",
    "if type(tableau_score) == type([]):\n",
    "    tableau_score.append({\n",
    "        \"Nom du modèle\" : \"DistillBERT\",\n",
    "        \"Temps d'entraînement\" : time_training,\n",
    "        \"AUC-score_test\" : roc_auc_score(y_test, pred_test),\n",
    "        \"AUC-score_val\" : roc_auc_score(y_val, pred_val),\n",
    "        \"F1-score_test\" : f1_score(y_test, pred_test),\n",
    "        \"F1-score_val\" : f1_score(y_val, pred_val),\n",
    "        \"Précision-score_test\" : precision_score(y_test, pred_test),\n",
    "        \"Précision-score_val\" : precision_score(y_val, pred_val),\n",
    "        \"Rappel-score_test\" : recall_score(y_test, pred_test),\n",
    "        \"Rappel-score_val\" : recall_score(y_val, pred_val),\n",
    "        \"F-bêta-score_test\" : fbeta_score(y_test, pred_test, beta=0.5),\n",
    "        \"F-bêta-score_val\" : fbeta_score(y_val, pred_val, beta=0.5),\n",
    "        \"accuracy-score_test\" : accuracy_score(y_test, pred_test,),\n",
    "        \"accuracy-score_val\" : accuracy_score(y_val, pred_val)\n",
    "    })\n",
    "\n",
    "else:\n",
    "    list = [\"BERT\", time_training, roc_auc_score(y_test, pred_test), roc_auc_score(y_val, pred_val), \n",
    "            f1_score(y_test, pred_test), f1_score(y_val, pred_val),\n",
    "            precision_score(y_test, pred_test), precision_score(y_val, pred_val), recall_score(y_test, pred_test), recall_score(y_val, pred_val),\n",
    "            fbeta_score(y_test, pred_test, beta=0.5), fbeta_score(y_val, pred_val, beta=0.5),\n",
    "            accuracy_score(y_test, pred_test), accuracy_score(y_val, pred_val)]\n",
    "\n",
    "    tableau_score = tableau_score.append(pd.Series(list, index = [\"Nom du modèle\", \"Temps d'entraînement\", \"AUC-score_test\", \"AUC-score_val\", \n",
    "                                                                    \"F1-score_test\", \"F1-score_val\", \"Précision-score_test\", \"Précision-score_val\", \"Rappel-score_test\", \n",
    "                                                                    \"Rappel-score_val\", \"F-bêta-score_test\", \"F-bêta-score_val\", \n",
    "                                                                    \"accuracy-score_test\", \"accuracy-score_val\"]), ignore_index=True)"
   ]
  },
  {
   "cell_type": "markdown",
   "metadata": {},
   "source": [
    "<div style=\"background-color : lightgreen; color: black; padding : 5px; border-radius: 5px\">\n",
    "</div>"
   ]
  },
  {
   "cell_type": "code",
   "execution_count": 17,
   "metadata": {},
   "outputs": [
    {
     "name": "stdout",
     "output_type": "stream",
     "text": [
      "263/263 [==============================] - 298s 1s/step\n",
      "Aléatoire: ROC AUC= 0.500\n",
      "Model DistillBERTROC AUC= 0.770\n"
     ]
    },
    {
     "data": {
      "image/png": "[encoded data removed]",
      "text/plain": [
       "<Figure size 640x480 with 1 Axes>"
      ]
     },
     "metadata": {},
     "output_type": "display_data"
    }
   ],
   "source": [
    "graph_courbe_roc(model, [X_test_ids, X_test_att], y_test, \"Model DistillBERT\")"
   ]
  },
  {
   "cell_type": "markdown",
   "metadata": {},
   "source": [
    "<div style=\"background-color : lightgreen; color: black; padding : 5px; border-radius: 5px\">\n",
    "</div>"
   ]
  },
  {
   "cell_type": "code",
   "execution_count": 18,
   "metadata": {},
   "outputs": [
    {
     "name": "stdout",
     "output_type": "stream",
     "text": [
      "              precision    recall  f1-score   support\n",
      "\n",
      "           0       0.79      0.73      0.76      4179\n",
      "           1       0.75      0.81      0.78      4221\n",
      "\n",
      "    accuracy                           0.77      8400\n",
      "   macro avg       0.77      0.77      0.77      8400\n",
      "weighted avg       0.77      0.77      0.77      8400\n",
      "\n"
     ]
    },
    {
     "data": {
      "image/png": "[encoded data removed]",
      "text/plain": [
       "<Figure size 640x480 with 2 Axes>"
      ]
     },
     "metadata": {},
     "output_type": "display_data"
    }
   ],
   "source": [
    "confusion_report_matrix(\"Matrice de confusion DistillBERT\", y_test, pred_test)"
   ]
  },
  {
   "cell_type": "markdown",
   "metadata": {},
   "source": [
    "<div style=\"background-color : lightgreen; color: black; padding : 5px; border-radius: 5px\">\n",
    "</div>"
   ]
  },
  {
   "cell_type": "code",
   "execution_count": 19,
   "metadata": {},
   "outputs": [
    {
     "data": {
      "text/html": [
       "<div>\n",
       "<style scoped>\n",
       "    .dataframe tbody tr th:only-of-type {\n",
       "        vertical-align: middle;\n",
       "    }\n",
       "\n",
       "    .dataframe tbody tr th {\n",
       "        vertical-align: top;\n",
       "    }\n",
       "\n",
       "    .dataframe thead th {\n",
       "        text-align: right;\n",
       "    }\n",
       "</style>\n",
       "<table border=\"1\" class=\"dataframe\">\n",
       "  <thead>\n",
       "    <tr style=\"text-align: right;\">\n",
       "      <th></th>\n",
       "      <th>Nom du modèle</th>\n",
       "      <th>Temps d'entraînement</th>\n",
       "      <th>AUC-score_test</th>\n",
       "      <th>AUC-score_val</th>\n",
       "      <th>F1-score_test</th>\n",
       "      <th>F1-score_val</th>\n",
       "      <th>Précision-score_test</th>\n",
       "      <th>Précision-score_val</th>\n",
       "      <th>Rappel-score_test</th>\n",
       "      <th>Rappel-score_val</th>\n",
       "      <th>F-bêta-score_test</th>\n",
       "      <th>F-bêta-score_val</th>\n",
       "      <th>accuracy-score_test</th>\n",
       "      <th>accuracy-score_val</th>\n",
       "    </tr>\n",
       "  </thead>\n",
       "  <tbody>\n",
       "    <tr>\n",
       "      <th>0</th>\n",
       "      <td>Régression Logistique Count Lemmatized</td>\n",
       "      <td>6.736087</td>\n",
       "      <td>0.762875</td>\n",
       "      <td>0.762813</td>\n",
       "      <td>0.762875</td>\n",
       "      <td>0.762813</td>\n",
       "      <td>0.762875</td>\n",
       "      <td>0.762813</td>\n",
       "      <td>0.762875</td>\n",
       "      <td>0.762813</td>\n",
       "      <td>0.762875</td>\n",
       "      <td>0.762813</td>\n",
       "      <td>0.762875</td>\n",
       "      <td>0.762813</td>\n",
       "    </tr>\n",
       "    <tr>\n",
       "      <th>1</th>\n",
       "      <td>Régression Logistique Count Stemmed</td>\n",
       "      <td>5.005085</td>\n",
       "      <td>0.761500</td>\n",
       "      <td>0.758594</td>\n",
       "      <td>0.761500</td>\n",
       "      <td>0.758594</td>\n",
       "      <td>0.761500</td>\n",
       "      <td>0.758594</td>\n",
       "      <td>0.761500</td>\n",
       "      <td>0.758594</td>\n",
       "      <td>0.761500</td>\n",
       "      <td>0.758594</td>\n",
       "      <td>0.761500</td>\n",
       "      <td>0.758594</td>\n",
       "    </tr>\n",
       "    <tr>\n",
       "      <th>2</th>\n",
       "      <td>Régression Logistique TF-IDF Lemmatized</td>\n",
       "      <td>4.726022</td>\n",
       "      <td>0.769625</td>\n",
       "      <td>0.765625</td>\n",
       "      <td>0.769625</td>\n",
       "      <td>0.765625</td>\n",
       "      <td>0.769625</td>\n",
       "      <td>0.765625</td>\n",
       "      <td>0.769625</td>\n",
       "      <td>0.765625</td>\n",
       "      <td>0.769625</td>\n",
       "      <td>0.765625</td>\n",
       "      <td>0.769625</td>\n",
       "      <td>0.765625</td>\n",
       "    </tr>\n",
       "    <tr>\n",
       "      <th>3</th>\n",
       "      <td>Régression Logistique TF-IDF Stemmed</td>\n",
       "      <td>4.360262</td>\n",
       "      <td>0.768375</td>\n",
       "      <td>0.764062</td>\n",
       "      <td>0.768375</td>\n",
       "      <td>0.764063</td>\n",
       "      <td>0.768375</td>\n",
       "      <td>0.764062</td>\n",
       "      <td>0.768375</td>\n",
       "      <td>0.764062</td>\n",
       "      <td>0.768375</td>\n",
       "      <td>0.764062</td>\n",
       "      <td>0.768375</td>\n",
       "      <td>0.764062</td>\n",
       "    </tr>\n",
       "    <tr>\n",
       "      <th>4</th>\n",
       "      <td>BERT</td>\n",
       "      <td>2564.690594</td>\n",
       "      <td>0.769551</td>\n",
       "      <td>0.769551</td>\n",
       "      <td>0.779877</td>\n",
       "      <td>0.779877</td>\n",
       "      <td>0.750493</td>\n",
       "      <td>0.750493</td>\n",
       "      <td>0.811656</td>\n",
       "      <td>0.811656</td>\n",
       "      <td>0.761977</td>\n",
       "      <td>0.761977</td>\n",
       "      <td>0.769762</td>\n",
       "      <td>0.769762</td>\n",
       "    </tr>\n",
       "  </tbody>\n",
       "</table>\n",
       "</div>"
      ],
      "text/plain": [
       "                             Nom du modèle  Temps d'entraînement  \\\n",
       "0   Régression Logistique Count Lemmatized              6.736087   \n",
       "1      Régression Logistique Count Stemmed              5.005085   \n",
       "2  Régression Logistique TF-IDF Lemmatized              4.726022   \n",
       "3     Régression Logistique TF-IDF Stemmed              4.360262   \n",
       "4                                     BERT           2564.690594   \n",
       "\n",
       "   AUC-score_test  AUC-score_val  F1-score_test  F1-score_val  \\\n",
       "0        0.762875       0.762813       0.762875      0.762813   \n",
       "1        0.761500       0.758594       0.761500      0.758594   \n",
       "2        0.769625       0.765625       0.769625      0.765625   \n",
       "3        0.768375       0.764062       0.768375      0.764063   \n",
       "4        0.769551       0.769551       0.779877      0.779877   \n",
       "\n",
       "   Précision-score_test  Précision-score_val  Rappel-score_test  \\\n",
       "0              0.762875             0.762813           0.762875   \n",
       "1              0.761500             0.758594           0.761500   \n",
       "2              0.769625             0.765625           0.769625   \n",
       "3              0.768375             0.764062           0.768375   \n",
       "4              0.750493             0.750493           0.811656   \n",
       "\n",
       "   Rappel-score_val  F-bêta-score_test  F-bêta-score_val  accuracy-score_test  \\\n",
       "0          0.762813           0.762875          0.762813             0.762875   \n",
       "1          0.758594           0.761500          0.758594             0.761500   \n",
       "2          0.765625           0.769625          0.765625             0.769625   \n",
       "3          0.764062           0.768375          0.764062             0.768375   \n",
       "4          0.811656           0.761977          0.761977             0.769762   \n",
       "\n",
       "   accuracy-score_val  \n",
       "0            0.762813  \n",
       "1            0.758594  \n",
       "2            0.765625  \n",
       "3            0.764062  \n",
       "4            0.769762  "
      ]
     },
     "execution_count": 19,
     "metadata": {},
     "output_type": "execute_result"
    }
   ],
   "source": [
    "tableau_score"
   ]
  },
  {
   "cell_type": "code",
   "execution_count": 20,
   "metadata": {},
   "outputs": [],
   "source": [
    "# tableau_score.to_csv(\"csv/tableau_score.csv\", index=False) "
   ]
  },
  {
   "cell_type": "markdown",
   "metadata": {},
   "source": [
    "<div style=\"background-color : lightgreen; color: black; padding : 5px; border-radius: 5px\">\n",
    "</div>"
   ]
  },
  {
   "cell_type": "markdown",
   "metadata": {},
   "source": [
    "# Conclusion"
   ]
  },
  {
   "attachments": {},
   "cell_type": "markdown",
   "metadata": {},
   "source": [
    "Pour améliorer le modèle : optimization du learning rate, choisir un meilleur nombre d'épochs, batchs size, plus de données, le nombre de faux négatifs trés élevé est surement du au traitement éffectuer qui contient des stop-words qui devrait être justement présent pour prédire les sentiments positifs et négatif"
   ]
  }
 ],
 "metadata": {
  "kernelspec": {
   "display_name": "P07",
   "language": "python",
   "name": "python3"
  },
  "language_info": {
   "codemirror_mode": {
    "name": "ipython",
    "version": 3
   },
   "file_extension": ".py",
   "mimetype": "text/x-python",
   "name": "python",
   "nbconvert_exporter": "python",
   "pygments_lexer": "ipython3",
   "version": "3.9.15"
  },
  "orig_nbformat": 4,
  "vscode": {
   "interpreter": {
    "hash": "5ab655ff3d4afdb3bb7c91d3e64e462409c9d2565064449fa1e0c7de6eab098d"
   }
  }
 },
 "nbformat": 4,
 "nbformat_minor": 2
}
